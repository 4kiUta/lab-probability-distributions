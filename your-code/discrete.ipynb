{
 "cells": [
  {
   "cell_type": "markdown",
   "metadata": {},
   "source": [
    "# Before your start:\n",
    "\n",
    "    Read the README.md file\n",
    "    Comment as much as you can and use the resources (README.md file)\n",
    "    Happy learning!\n",
    "\n",
    "*Notes:* \n",
    "\n",
    "- Solve the questions with python.\n",
    "\n",
    "- Round the final answer to three decimal places."
   ]
  },
  {
   "cell_type": "markdown",
   "metadata": {},
   "source": [
    "## Bernoulli's Distribution\n",
    "\n",
    "In a basket containing 100 fruits, there are 60 apples and 40 oranges. \n",
    "\n",
    "A fruit is picked randomly from the basket. \n",
    "\n",
    "1. **What is the probability that the fruit is apple?**\n",
    "1. **What is the probability that it is an orange?**"
   ]
  },
  {
   "cell_type": "code",
   "execution_count": 3,
   "metadata": {},
   "outputs": [
    {
     "data": {
      "text/plain": [
       "0.4"
      ]
     },
     "execution_count": 3,
     "metadata": {},
     "output_type": "execute_result"
    }
   ],
   "source": [
    "\"\"\"\n",
    "Calculate:\n",
    "p = probability that the fruit is an apple \n",
    "q = probability that the fruit is an orange\n",
    "\"\"\"\n",
    "\n",
    "# your code here\n",
    "\n",
    "p = 60/100\n",
    "q = 40/100\n",
    "\n"
   ]
  },
  {
   "cell_type": "markdown",
   "metadata": {},
   "source": [
    "Now we take a random sample of 20 fruits from the basket. After each fruit is taken, a new fruit of the same type is replaced in the basket. Therefore, every time we are taking 1 fruit from 100 fruits. \n",
    "\n",
    "1. **What is the probability that the first 5 fruits are all apples?**\n",
    "\n",
    "1. **What is the probability that the first 5 fruits are all apples and the next 15 fruits are all oranges?**\n",
    "\n",
    "You can include the `p` and `q` probabilities you previous calculated in your solution."
   ]
  },
  {
   "cell_type": "code",
   "execution_count": 13,
   "metadata": {},
   "outputs": [
    {
     "data": {
      "text/plain": [
       "8.349416423424006e-08"
      ]
     },
     "execution_count": 13,
     "metadata": {},
     "output_type": "execute_result"
    }
   ],
   "source": [
    "# your code here\n",
    "\n",
    "appl_5x = p **5\n",
    "\n",
    "appl_5x_orange_15x = p**5 * q**15\n",
    "\n",
    "appl_5x_orange_15x"
   ]
  },
  {
   "cell_type": "markdown",
   "metadata": {},
   "source": [
    "## Binomial Distribution\n",
    "\n",
    "Similar to the above problem, this time again we randomly sample 20 fruits.\n",
    "\n",
    "**What is the probability that this time the sample contains 5 apples and 15 oranges?**\n",
    "\n",
    "Please note that this time the order of the fruits being picked does not matter."
   ]
  },
  {
   "cell_type": "code",
   "execution_count": 15,
   "metadata": {},
   "outputs": [
    {
     "data": {
      "text/plain": [
       "0.0012944935222876579"
      ]
     },
     "execution_count": 15,
     "metadata": {},
     "output_type": "execute_result"
    }
   ],
   "source": [
    "# your code her\n",
    "# (20 - 5)*(p**5)*(1-p)**20-5\n",
    "\n",
    "prob_with_sucess_apple = 15504*(p**5)*(q)**(20-5)\n",
    "\n",
    "#15504 is combinations of 20, 5 on 5\n",
    "\n",
    "prob_with_sucess_apple"
   ]
  },
  {
   "cell_type": "code",
   "execution_count": 17,
   "metadata": {},
   "outputs": [
    {
     "data": {
      "text/plain": [
       "0.0012944935222876579"
      ]
     },
     "execution_count": 17,
     "metadata": {},
     "output_type": "execute_result"
    }
   ],
   "source": [
    "##or \n",
    "\n",
    "##Because if its one ore another, the probability of having 5 apples in 20 oranges and apples is the same as having 15 oranges \n",
    "## oranges in 20 oranges in apples because the order dont matter. so we have multiple ways of getting this but\n",
    "## this multiple ways have one thing in comon which is the number of apples and orange piked ... \n",
    "\n",
    "# (20 - 15)*(q**15)*(1-q)**20-15\n",
    "\n",
    "prob_with_sucess_orange = 15504 * (q**15)*(p)**(20-15)\n",
    "prob_with_sucess_orange\n"
   ]
  },
  {
   "cell_type": "code",
   "execution_count": 19,
   "metadata": {},
   "outputs": [
    {
     "name": "stdout",
     "output_type": "stream",
     "text": [
      "0.0012944935222876511\n"
     ]
    }
   ],
   "source": [
    "## OR easy way \n",
    "\n",
    "from scipy import stats\n",
    "from scipy.stats import binom\n",
    "\n",
    "\n",
    "\n",
    "print(binom.pmf(5,20,p)) \n",
    "\n",
    "#print(binomial.cdf(3)) \n",
    "#print(binomial.mean())\n",
    "#print(binomial.var())\n",
    "#print(binomial.std())\n",
    "#print(binomial.rvs(15))\n",
    "\n",
    "\n"
   ]
  },
  {
   "cell_type": "markdown",
   "metadata": {},
   "source": [
    "In the lesson we also discussed CDF (cumulative distribution function). In the context of the above problem, **what is the probability that less than 5 fruits picked are apples?**\n",
    "\n",
    "Write the formula and calculate the probability below."
   ]
  },
  {
   "cell_type": "code",
   "execution_count": 20,
   "metadata": {},
   "outputs": [
    {
     "name": "stdout",
     "output_type": "stream",
     "text": [
      "0.001611524643456288\n"
     ]
    }
   ],
   "source": [
    "# your code here\n",
    "#Comulative distribution function \n",
    "\n",
    "print(binom.cdf(5,20,p))"
   ]
  },
  {
   "cell_type": "markdown",
   "metadata": {},
   "source": [
    "**Plot the PDF (probability distributiom function) for the above binomial distribution.**\n",
    "\n",
    "*Hint: The range of x in a binomial distribution is from `0` to `n`.*"
   ]
  },
  {
   "cell_type": "code",
   "execution_count": 80,
   "metadata": {},
   "outputs": [
    {
     "data": {
      "image/png": "[encoded data removed]",
      "text/plain": [
       "<Figure size 432x288 with 1 Axes>"
      ]
     },
     "metadata": {
      "needs_background": "light"
     },
     "output_type": "display_data"
    }
   ],
   "source": [
    "# your code here\n",
    "### IMPORTANT###\n",
    "\n",
    "## PDF probability distribution function dependes on the context. If we are talking about a discret uniforme distribution\n",
    "## the PDF is the probability of mass distribution - PMF. If we are in an continuous uniforme distribution we use the \n",
    "## Probability Density Function (also PDF)\n",
    "\n",
    "### \n",
    "\n",
    "\n",
    "# Please label the axes and give a title to the plot\n",
    "import matplotlib\n",
    "import matplotlib.pyplot as plt\n",
    "from matplotlib.pyplot import figure\n",
    "import numpy as np\n",
    "\n",
    "\n",
    "X = np.arange(0,21)\n",
    "\n",
    "fig, ax = plt.subplots(1, 1) ## we dont need to inciate a matrix here because we only have a plot\n",
    "\n",
    "ax.plot(X, binom.pmf(X, 20, p), 'r*') ## we expecify the type of dot because default is a line and sice we are talking about discret distributions we want to transmit that visualy. A line gives idea of continous distribution. \n",
    "plt.xlabel('Number of apples')\n",
    "plt.ylabel('Probability of getting x apples in 20 trials')\n",
    "plt.xticks(np.arange(0, 21, step=1)) # or X - just to try again numpy  \n",
    "\n",
    "ax.vlines(X, 0, binom.pmf(x, 20, p), colors='black', lw=5, alpha=0.5)\n",
    "\n",
    "plt.show()\n",
    "\n",
    "###DON'T UNDERSTAND WHY CAN'T USE AX INSTED OF plt for the labels?\n",
    "\n"
   ]
  },
  {
   "cell_type": "code",
   "execution_count": null,
   "metadata": {},
   "outputs": [],
   "source": [
    "np.arange(0,21)"
   ]
  },
  {
   "cell_type": "markdown",
   "metadata": {},
   "source": [
    "## Poisson Distribution\n",
    "\n",
    "In this challenge you are required to use the Math library in python to solve the problems.\n",
    "\n",
    "In the UEFA champions league tournament, the average number of goals scored in a match is 2.3. \n",
    "\n",
    "**What is the probability that the number of goals scored in a match is 5?**\n",
    "\n",
    "*Hint: Use the exp() in the math library*\n",
    "\n",
    "And to calculate the factorial, you can use the following code:\n",
    "\n",
    "```python\n",
    "import math\n",
    "math.factorial(n) # n is the number you want to find the factorial of\n",
    "```"
   ]
  },
  {
   "cell_type": "code",
   "execution_count": 84,
   "metadata": {},
   "outputs": [
    {
     "data": {
      "text/plain": [
       "0.053775025581946814"
      ]
     },
     "execution_count": 84,
     "metadata": {},
     "output_type": "execute_result"
    }
   ],
   "source": [
    "# your code here\n",
    "\n",
    "from scipy.stats import poisson\n",
    "\n",
    "poisson.pmf(5,2.3)"
   ]
  },
  {
   "cell_type": "code",
   "execution_count": 89,
   "metadata": {},
   "outputs": [
    {
     "data": {
      "text/plain": [
       "0.05377502558194681"
      ]
     },
     "execution_count": 89,
     "metadata": {},
     "output_type": "execute_result"
    }
   ],
   "source": [
    "## or like you sugested ##\n",
    "\n",
    "import math\n",
    "\n",
    "mew = 2.3\n",
    "k = 5\n",
    "\n",
    "\n",
    "kfac = math.factorial(5)\n",
    "kfac\n",
    "\n",
    "poisson_prob = math.exp(-mew)*(mew**k/kfac)\n",
    "poisson_prob"
   ]
  },
  {
   "cell_type": "markdown",
   "metadata": {},
   "source": [
    "**Draw a poisson probability distribution plot for the number of goals to be between 0 to 10.**"
   ]
  },
  {
   "cell_type": "code",
   "execution_count": 115,
   "metadata": {},
   "outputs": [
    {
     "data": {
      "image/png": "[encoded data removed]",
      "text/plain": [
       "<Figure size 1080x720 with 1 Axes>"
      ]
     },
     "metadata": {
      "needs_background": "light"
     },
     "output_type": "display_data"
    }
   ],
   "source": [
    "# your code here\n",
    "# Please label the axes and give a title to the plot \n",
    "\n",
    "\n",
    "figure(figsize=(15, 10))\n",
    "\n",
    "x_size = np.arange(0,11)\n",
    "\n",
    "\n",
    "\n",
    "plt.plot(x_size, poisson.pmf(np.arange(0,11),2.3), 'md', mew=2, ms=10)\n",
    "\n",
    "plt.xlabel('# Goals')\n",
    "plt.ylabel('Probability of Scoring x goals')\n",
    "\n",
    "plt.show()"
   ]
  }
 ],
 "metadata": {
  "kernelspec": {
   "display_name": "Python 3",
   "language": "python",
   "name": "python3"
  },
  "language_info": {
   "codemirror_mode": {
    "name": "ipython",
    "version": 3
   },
   "file_extension": ".py",
   "mimetype": "text/x-python",
   "name": "python",
   "nbconvert_exporter": "python",
   "pygments_lexer": "ipython3",
   "version": "3.7.4"
  }
 },
 "nbformat": 4,
 "nbformat_minor": 2
}
